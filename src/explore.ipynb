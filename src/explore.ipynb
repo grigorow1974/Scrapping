{
    "cells": [
        {
            "cell_type": "code",
            "execution_count": 19,
            "metadata": {},
            "outputs": [
                {
                    "name": "stdout",
                    "output_type": "stream",
                    "text": [
                        "Dataset URL: https://www.kaggle.com/datasets/austinreese/craigslist-carstrucks-data\n",
                        "           id                                                url  \\\n",
                        "0  7222695916  https://prescott.craigslist.org/cto/d/prescott...   \n",
                        "1  7218891961  https://fayar.craigslist.org/ctd/d/bentonville...   \n",
                        "2  7221797935  https://keys.craigslist.org/cto/d/summerland-k...   \n",
                        "3  7222270760  https://worcester.craigslist.org/cto/d/west-br...   \n",
                        "4  7210384030  https://greensboro.craigslist.org/cto/d/trinit...   \n",
                        "\n",
                        "                   region                         region_url  price  year  \\\n",
                        "0                prescott    https://prescott.craigslist.org   6000   NaN   \n",
                        "1            fayetteville       https://fayar.craigslist.org  11900   NaN   \n",
                        "2            florida keys        https://keys.craigslist.org  21000   NaN   \n",
                        "3  worcester / central MA   https://worcester.craigslist.org   1500   NaN   \n",
                        "4              greensboro  https://greensboro.craigslist.org   4900   NaN   \n",
                        "\n",
                        "  manufacturer model condition cylinders  ... size  type paint_color  \\\n",
                        "0          NaN   NaN       NaN       NaN  ...  NaN   NaN         NaN   \n",
                        "1          NaN   NaN       NaN       NaN  ...  NaN   NaN         NaN   \n",
                        "2          NaN   NaN       NaN       NaN  ...  NaN   NaN         NaN   \n",
                        "3          NaN   NaN       NaN       NaN  ...  NaN   NaN         NaN   \n",
                        "4          NaN   NaN       NaN       NaN  ...  NaN   NaN         NaN   \n",
                        "\n",
                        "  image_url description county state lat long posting_date  \n",
                        "0       NaN         NaN    NaN    az NaN  NaN          NaN  \n",
                        "1       NaN         NaN    NaN    ar NaN  NaN          NaN  \n",
                        "2       NaN         NaN    NaN    fl NaN  NaN          NaN  \n",
                        "3       NaN         NaN    NaN    ma NaN  NaN          NaN  \n",
                        "4       NaN         NaN    NaN    nc NaN  NaN          NaN  \n",
                        "\n",
                        "[5 rows x 26 columns]\n"
                    ]
                }
            ],
            "source": [
                "import os\n",
                "import kaggle\n",
                "import pandas as pd\n",
                "\n",
                "# Configurar las credenciales de Kaggle\n",
                "os.environ['KAGGLE_USERNAME'] = 'sergiogrigorow'\n",
                "os.environ['KAGGLE_KEY'] = '5b6caa4bd0a3477a881881285a15d333'\n",
                "\n",
                "# Autenticarse en Kaggle\n",
                "kaggle.api.authenticate()\n",
                "\n",
                "# Ruta donde se guardará el archivo descargado\n",
                "download_path = 'C:/Users/sergi/Proyectos/Scrapping/data/raw'\n",
                "\n",
                "# Descargar y descomprimir el dataset\n",
                "kaggle.api.dataset_download_files('austinreese/craigslist-carstrucks-data', path=download_path, unzip=True)\n",
                "\n",
                "# Leer el archivo CSV descargado\n",
                "csv_file_path = os.path.join(download_path, 'vehicles.csv')\n",
                "df = pd.read_csv(csv_file_path)\n",
                "\n",
                "# Mostrar las primeras filas del DataFrame\n",
                "print(df.head())\n"
            ]
        }
    ],
    "metadata": {
        "kernelspec": {
            "display_name": "Python 3.8.13 64-bit ('3.8.13')",
            "language": "python",
            "name": "python3"
        },
        "language_info": {
            "codemirror_mode": {
                "name": "ipython",
                "version": 3
            },
            "file_extension": ".py",
            "mimetype": "text/x-python",
            "name": "python",
            "nbconvert_exporter": "python",
            "pygments_lexer": "ipython3",
            "version": "3.12.0"
        },
        "orig_nbformat": 4,
        "vscode": {
            "interpreter": {
                "hash": "110cc1dee26208153f2972f08a2ad52b6a56238dc66d48e87fb757ef2996db56"
            }
        }
    },
    "nbformat": 4,
    "nbformat_minor": 2
}
